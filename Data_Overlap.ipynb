{
 "cells": [
  {
   "cell_type": "markdown",
   "metadata": {},
   "source": [
    "## Importing need packages"
   ]
  },
  {
   "cell_type": "code",
   "execution_count": 33,
   "metadata": {},
   "outputs": [],
   "source": [
    "import pandas as pd\n",
    "import urllib.request\n",
    "import pymatgen\n",
    "from pymatgen.ext.matproj import MPRester\n",
    "import json\n",
    "import numpy as np\n",
    "import matplotlib.pyplot as plt"
   ]
  },
  {
   "cell_type": "markdown",
   "metadata": {},
   "source": [
    "## Fuctions that help retrive entries from HTEM and Materials Project Databases. The elemental system is used to retreive entries in both cases."
   ]
  },
  {
   "cell_type": "code",
   "execution_count": null,
   "metadata": {},
   "outputs": [],
   "source": [
    "def HTEM_ids_by_composition(E_only=[],E_not=[],E_any=[]):\n",
    "    elt_url = 'https://htem-api.nrel.gov/api/sample_library?element='\n",
    "    for i in E_only:\n",
    "        elt_url = elt_url+str(i)+','\n",
    "    response = urllib.request.urlopen(elt_url)\n",
    "    data = json.loads(response.read())\n",
    "    ids_list = []\n",
    "    for i in data:\n",
    "        elts = str(i['elements'])\n",
    "        violated = False\n",
    "        for k in E_not:\n",
    "            if k in elts:\n",
    "                violated = True\n",
    "        l = 0\n",
    "        for k in E_only:\n",
    "            if k in elts:\n",
    "                l = l+1\n",
    "        if l == len(E_only) and violated == False:\n",
    "            ids_list.append(i['id'])\n",
    "        else:\n",
    "            pass\n",
    "    return ids_list\n",
    "\n",
    "def HTEM_get_sample_id(lib):\n",
    "    url = 'https://htem-api.nrel.gov/api/sample_library/'+str(lib)\n",
    "    response = urllib.request.urlopen(url)\n",
    "    data = json.loads(response.read())\n",
    "    positions = data['sample_ids']\n",
    "    return positions\n",
    "\n",
    "def MatPro_ids_by_sys(elms):\n",
    "    mpr = MPRester(\"HZC8lZqpZHrTqGa5f\") \n",
    "    el_sys = ''\n",
    "    for i in elms:\n",
    "        if i != elms[-1]:\n",
    "            el_sys = el_sys+str(i)+'-'\n",
    "        else:\n",
    "            el_sys = el_sys+str(i)\n",
    "    data = mpr.get_data(el_sys, prop=\"material_id\")\n",
    "    mp_ids = []\n",
    "    for i in data:\n",
    "        mp_ids.append(i['material_id'])\n",
    "    return mp_ids"
   ]
  },
  {
   "cell_type": "markdown",
   "metadata": {},
   "source": [
    "## Retreive all compostional systems from HTEM database."
   ]
  },
  {
   "cell_type": "code",
   "execution_count": 11,
   "metadata": {},
   "outputs": [],
   "source": [
    "#get comp of all materials in HTEM\n",
    "elt_url = 'https://htem-api.nrel.gov/api/sample_library?element='\n",
    "response = urllib.request.urlopen(elt_url)\n",
    "data = json.loads(response.read())\n",
    "HTEM_All_Comps = []\n",
    "HTEM_All_ids = []\n",
    "for entry in data:\n",
    "    HTEM_All_Comps.append(entry['elements'])\n",
    "    HTEM_All_ids.append(entry['id'])"
   ]
  },
  {
   "cell_type": "markdown",
   "metadata": {},
   "source": [
    "## Find how many unique material systems exist in HTEM database"
   ]
  },
  {
   "cell_type": "code",
   "execution_count": 48,
   "metadata": {},
   "outputs": [],
   "source": [
    "# get unigiue comps\n",
    "HTEM_unique_Comps = []\n",
    "HTEM_All_elm_sys = []\n",
    "for elms in HTEM_All_Comps:\n",
    "    if len(elms) > 1:\n",
    "        el_sys = ''\n",
    "        for i in elms:\n",
    "            if i != elms[-1]:\n",
    "                el_sys = el_sys+str(i)+'-'\n",
    "            else:\n",
    "                el_sys = el_sys+str(i)\n",
    "        HTEM_All_elm_sys.append(el_sys)\n",
    "        HTEM_unique_Comps.append(el_sys)\n",
    "    else:\n",
    "        HTEM_All_elm_sys.append('')\n",
    "        \n",
    "HTEM_unique_Comps = list(set(HTEM_unique_Comps))"
   ]
  },
  {
   "cell_type": "code",
   "execution_count": 50,
   "metadata": {},
   "outputs": [
    {
     "data": {
      "text/plain": [
       "161"
      ]
     },
     "execution_count": 50,
     "metadata": {},
     "output_type": "execute_result"
    }
   ],
   "source": [
    "len(HTEM_unique_Comps)"
   ]
  },
  {
   "cell_type": "markdown",
   "metadata": {},
   "source": [
    "## Find all the systems that are also in Materials Project. At the same time find how many strucutres to consider."
   ]
  },
  {
   "cell_type": "code",
   "execution_count": 34,
   "metadata": {},
   "outputs": [],
   "source": [
    "#get list of systems also in mat pro\n",
    "Comps_BothDB = []\n",
    "TotalStructures2Consider = 0\n",
    "for mat_sys in HTEM_unique_Comps:\n",
    "    mpr = MPRester(\"HZC8lZqpZHrTqGa5f\") \n",
    "    data = mpr.get_data(mat_sys, prop=\"material_id\")\n",
    "    mp_ids = []\n",
    "    for i in data:\n",
    "        mp_ids.append(i['material_id'])\n",
    "    if len(mp_ids) > 0:\n",
    "        Comps_BothDB.append(mat_sys)\n",
    "        TotalStructures2Consider += len(mp_ids)"
   ]
  },
  {
   "cell_type": "code",
   "execution_count": 35,
   "metadata": {},
   "outputs": [
    {
     "data": {
      "text/plain": [
       "106"
      ]
     },
     "execution_count": 35,
     "metadata": {},
     "output_type": "execute_result"
    }
   ],
   "source": [
    "len(Comps_BothDB)"
   ]
  },
  {
   "cell_type": "code",
   "execution_count": 36,
   "metadata": {},
   "outputs": [
    {
     "data": {
      "text/plain": [
       "1641"
      ]
     },
     "execution_count": 36,
     "metadata": {},
     "output_type": "execute_result"
    }
   ],
   "source": [
    "TotalStructures2Consider"
   ]
  },
  {
   "cell_type": "markdown",
   "metadata": {},
   "source": [
    "## Find total number of samples in HTEM that have analogs in the Materials Project"
   ]
  },
  {
   "cell_type": "code",
   "execution_count": 51,
   "metadata": {},
   "outputs": [],
   "source": [
    "#number of unique samples that overlap\n",
    "Samples_BothDB = 0\n",
    "for i in range(len(HTEM_All_ids)):\n",
    "    lib = HTEM_All_ids[i]\n",
    "    ele_sys = HTEM_All_elm_sys[i]\n",
    "    if ele_sys in Comps_BothDB:\n",
    "        sample_ids = HTEM_get_sample_id(lib)\n",
    "        Samples_BothDB += len(sample_ids)"
   ]
  },
  {
   "cell_type": "code",
   "execution_count": 52,
   "metadata": {},
   "outputs": [
    {
     "data": {
      "text/plain": [
       "42901"
      ]
     },
     "execution_count": 52,
     "metadata": {},
     "output_type": "execute_result"
    }
   ],
   "source": [
    "Samples_BothDB"
   ]
  },
  {
   "cell_type": "markdown",
   "metadata": {},
   "source": [
    "## Show the sizes of each data set with the overlap of one with the other."
   ]
  },
  {
   "cell_type": "code",
   "execution_count": 86,
   "metadata": {},
   "outputs": [
    {
     "data": {
      "image/png": "[encoded data removed]",
      "text/plain": [
       "<Figure size 432x216 with 1 Axes>"
      ]
     },
     "metadata": {
      "needs_background": "light"
     },
     "output_type": "display_data"
    }
   ],
   "source": [
    "#make comparison chart\n",
    "HTEM_samp = 57597\n",
    "HTEM_sys = len(HTEM_unique_Comps)\n",
    "MP_comp = 86680\n",
    "Both_Uniq_sys = len(Comps_BothDB)\n",
    "Both_samp = Samples_BothDB\n",
    "Both_Cry = TotalStructures2Consider\n",
    "\n",
    "Values = [MP_comp,Both_Cry,\n",
    "          Both_samp,HTEM_samp]\n",
    "Bins = (\"Materials Project : Structures\",\"Overlap : Structures\",\n",
    "        'Overlap : Samples',\"HTEM : Samples\")\n",
    "\n",
    "y_pos = np.arange(len(Bins))\n",
    "plt.rcParams[\"figure.figsize\"] = (6,3)\n",
    "plt.barh(y_pos, Values, align='center',height=.5)\n",
    "plt.yticks(y_pos, Bins)\n",
    "plt.xlabel('Unique Entries')\n",
    "plt.title('Experimental vs. Computational Datasets')\n",
    "plt.xscale('log')\n",
    "plt.xlim((1, 1000000))\n",
    "plt.show()"
   ]
  },
  {
   "cell_type": "markdown",
   "metadata": {},
   "source": [
    "### The figure above shows the significant number of entries that exist in the High through-put Experimental Materials (HTEM) database and the Materials Project (MP) Database. The middle two catagories show the magnitude of overlap between the two. More than 1000 inorganic structures from MP are applicable to samples in HTEM, and more than 40,000 samples in HTEM are applicable to compounds in MP. "
   ]
  }
 ],
 "metadata": {
  "kernelspec": {
   "display_name": "Python 3",
   "language": "python",
   "name": "python3"
  },
  "language_info": {
   "codemirror_mode": {
    "name": "ipython",
    "version": 3
   },
   "file_extension": ".py",
   "mimetype": "text/x-python",
   "name": "python",
   "nbconvert_exporter": "python",
   "pygments_lexer": "ipython3",
   "version": "3.7.1"
  }
 },
 "nbformat": 4,
 "nbformat_minor": 2
}
